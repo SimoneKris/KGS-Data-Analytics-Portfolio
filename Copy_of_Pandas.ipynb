{
  "nbformat": 4,
  "nbformat_minor": 0,
  "metadata": {
    "anaconda-cloud": {},
    "kernelspec": {
      "display_name": "Python 3 (ipykernel)",
      "language": "python",
      "name": "python3"
    },
    "language_info": {
      "codemirror_mode": {
        "name": "ipython",
        "version": 3
      },
      "file_extension": ".py",
      "mimetype": "text/x-python",
      "name": "python",
      "nbconvert_exporter": "python",
      "pygments_lexer": "ipython3",
      "version": "3.8.10"
    },
    "colab": {
      "name": "Copy of Pandas.ipynb",
      "provenance": [],
      "collapsed_sections": [],
      "include_colab_link": true
    }
  },
  "cells": [
    {
      "cell_type": "markdown",
      "metadata": {
        "id": "view-in-github",
        "colab_type": "text"
      },
      "source": [
        "<a href=\"https://colab.research.google.com/github/SimoneKris/KGS-Data-Analytics-Portfolio/blob/main/Copy_of_Pandas.ipynb\" target=\"_parent\"><img src=\"https://colab.research.google.com/assets/colab-badge.svg\" alt=\"Open In Colab\"/></a>"
      ]
    },
    {
      "cell_type": "markdown",
      "metadata": {
        "id": "gXb6b0b_yrYQ"
      },
      "source": [
        "# 5.4.2 Activity: Pandas\n",
        "\n",
        "\n",
        "\n",
        "### Lesson Goals\n",
        "\n",
        "Practice using Pandas to work with a dataset. Understand the structures and apply them to a simple dataframe.\n",
        "\n",
        "*Estimated Time: 20 minutes*\n",
        "\n",
        "---\n",
        "\n",
        "### Topics Covered\n",
        "- Loading dataframe\n",
        "- Selecting columns and series\n",
        "- Primary exploration\n",
        "\n",
        "\n",
        "\n",
        "\n",
        "\n",
        "**Dependencies:**"
      ]
    },
    {
      "cell_type": "code",
      "metadata": {
        "id": "i3Iv7c0zyrYS"
      },
      "source": [
        "import numpy as np\n",
        "import pandas as pd"
      ],
      "execution_count": 3,
      "outputs": []
    },
    {
      "cell_type": "markdown",
      "metadata": {
        "id": "ZBSR4OeKyrYS"
      },
      "source": [
        "---\n",
        "\n",
        "## The Data \n",
        "\n",
        "In this notebook, you'll be working with comic characters data for fivethirtyeight! Fivethirtyeight is a website where we will work with dataframes to gain insights into the data. Find it <a href = https://github.com/fivethirtyeight/data/tree/master/comic-characters> here</a>.\n",
        "\n",
        "---\n"
      ]
    },
    {
      "cell_type": "markdown",
      "metadata": {
        "id": "bnw6fWfLyrYT"
      },
      "source": [
        "## Question 1"
      ]
    },
    {
      "cell_type": "markdown",
      "metadata": {
        "id": "IiKJ21pXyrYT"
      },
      "source": [
        "Below we are loading in a dataset from Github and assigning it to the name `marvel`. **Fill in the code cell with .head() to see the first 5 rows.**"
      ]
    },
    {
      "cell_type": "code",
      "metadata": {
        "id": "p0vTac5ZMbRp"
      },
      "source": [
        "marvel = pd.read_csv(\"https://raw.githubusercontent.com/fivethirtyeight/data/master/comic-characters/marvel-wikia-data.csv\")\n",
        "..."
      ],
      "execution_count": 4,
      "outputs": []
    },
    {
      "cell_type": "markdown",
      "metadata": {
        "id": "DG3Qxri0yrYT"
      },
      "source": [
        "## Question 2\n",
        "Next, load the DC Comic data that is also a csv in the Github repository into the cell below and name it `dc`.\n",
        "\n",
        "You get the link by: \n",
        "\n",
        "- Going to the <a href = https://github.com/fivethirtyeight/data/tree/master/comic-characters> Github</a>\n",
        "- Clicking on `dc-wikia-data.csv`\n",
        "- Clicking on `View raw`\n",
        "- Copying the URL of that page."
      ]
    },
    {
      "cell_type": "code",
      "metadata": {
        "id": "rAjcdcAZMgZy",
        "colab": {
          "base_uri": "https://localhost:8080/",
          "height": 133
        },
        "outputId": "5961da7e-75ae-45e2-f39c-5007d015a248"
      },
      "source": [
        "https://raw.githubusercontent.com/fivethirtyeight/data/master/comic-characters/dc-wikia-data.csv\n",
        "dc.head()"
      ],
      "execution_count": 7,
      "outputs": [
        {
          "output_type": "error",
          "ename": "SyntaxError",
          "evalue": "ignored",
          "traceback": [
            "\u001b[0;36m  File \u001b[0;32m\"<ipython-input-7-1546cfd68a29>\"\u001b[0;36m, line \u001b[0;32m1\u001b[0m\n\u001b[0;31m    https://raw.githubusercontent.com/fivethirtyeight/data/master/comic-characters/dc-wikia-data.csv\u001b[0m\n\u001b[0m           ^\u001b[0m\n\u001b[0;31mSyntaxError\u001b[0m\u001b[0;31m:\u001b[0m invalid syntax\n"
          ]
        }
      ]
    },
    {
      "cell_type": "markdown",
      "metadata": {
        "id": "9RHiI2SLyrYU"
      },
      "source": [
        "## Question 3\n",
        "Use the describe method to learn about the `marvel` dataset."
      ]
    },
    {
      "cell_type": "code",
      "metadata": {
        "id": "IY0wGpaaNged"
      },
      "source": [
        "..."
      ],
      "execution_count": null,
      "outputs": []
    },
    {
      "cell_type": "markdown",
      "metadata": {
        "id": "z0usBRFVNRoe"
      },
      "source": [
        "**What can we learn from the describe table?** (For example: What is the year of the first comic book appearance of a character?)"
      ]
    },
    {
      "cell_type": "markdown",
      "metadata": {
        "id": "Z4wuIwctOC9l"
      },
      "source": [
        "[Insert others here]"
      ]
    },
    {
      "cell_type": "markdown",
      "metadata": {
        "id": "mWEQA1GTyrYV"
      },
      "source": [
        "## Question 4\n",
        "How would we get a table that only includes the name, ALIGN, SEX, and year columns? (Pay attention to the capitalization of the column names.)"
      ]
    },
    {
      "cell_type": "code",
      "metadata": {
        "id": "6yWdlG8kOnbl"
      },
      "source": [
        "marvel_2 = ...\n",
        "marvel_2.head(10)"
      ],
      "execution_count": null,
      "outputs": []
    },
    {
      "cell_type": "markdown",
      "metadata": {
        "id": "q9FrRHZnyrYV"
      },
      "source": [
        "## Question 5\n",
        "We are going get the year column and then find the earliest date of a character. First, let's look at the `marvel` years."
      ]
    },
    {
      "cell_type": "code",
      "metadata": {
        "id": "dJ7nkZc5PKGL"
      },
      "source": [
        "help(pd.Series())"
      ],
      "execution_count": null,
      "outputs": []
    },
    {
      "cell_type": "markdown",
      "metadata": {
        "id": "VBULdrFA3Itf"
      },
      "source": [
        "---\n",
        "## Additional Resources\n",
        "  - Refer to 5.4.1 \n",
        "  - 6.1.1 will review Pandas in more detail"
      ]
    }
  ]
}